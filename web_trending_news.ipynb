{
 "cells": [
  {
   "cell_type": "code",
   "execution_count": 1,
   "metadata": {},
   "outputs": [
    {
     "data": {
      "text/plain": [
       "'04-12-20'"
      ]
     },
     "execution_count": 1,
     "metadata": {},
     "output_type": "execute_result"
    }
   ],
   "source": [
    "from datetime import date, timedelta\n",
    "today=date.today()\n",
    "days_before=(date.today()-timedelta(days=30))\n",
    "d=today.strftime(\"%m-%d-%y\")\n",
    "d"
   ]
  },
  {
   "cell_type": "code",
   "execution_count": 2,
   "metadata": {},
   "outputs": [
    {
     "data": {
      "text/plain": [
       "'https://edition.cnn.com/world/live-news/coronavirus-outbreak-04-12-20-intl-hnk/index.html'"
      ]
     },
     "execution_count": 2,
     "metadata": {},
     "output_type": "execute_result"
    }
   ],
   "source": [
    "cnn_url='https://edition.cnn.com/world/live-news/coronavirus-outbreak-{}-intl-hnk/index.html'.format(d)\n",
    "from bs4 import BeautifulSoup\n",
    "import requests\n",
    "html=requests.get(cnn_url).text\n",
    "cnn_url"
   ]
  },
  {
   "cell_type": "code",
   "execution_count": 3,
   "metadata": {},
   "outputs": [
    {
     "data": {
      "text/plain": [
       "'/cnn-live-story/static/favicon.ico'"
      ]
     },
     "execution_count": 3,
     "metadata": {},
     "output_type": "execute_result"
    }
   ],
   "source": [
    "soup=BeautifulSoup(html)\n",
    "soup.find('link')['href']"
   ]
  },
  {
   "cell_type": "code",
   "execution_count": 4,
   "metadata": {},
   "outputs": [],
   "source": [
    "import spacy\n",
    "from spacy import load\n",
    "nlp=spacy.load('en_core_web_sm')"
   ]
  },
  {
   "cell_type": "code",
   "execution_count": 5,
   "metadata": {},
   "outputs": [],
   "source": [
    "for link in soup.find_all(\"h2\"):\n",
    "    head_line=(\"Headline : {}\".format(link.text))\n",
    "    for ent in nlp(link.text).ents:\n",
    "        text_entity=\"\\tText: {},Entity : {}\".format(ent.text,ent.label_)\n",
    "\n",
    "        \n",
    "    "
   ]
  },
  {
   "cell_type": "code",
   "execution_count": 6,
   "metadata": {},
   "outputs": [],
   "source": [
    "nbc_url ='https://www.nbcnews.com/health/coronavirus'\n",
    "cnbc_rss_url ='https://www.cnbc.com/id/10000108/device/rss/rss.html'"
   ]
  },
  {
   "cell_type": "markdown",
   "metadata": {},
   "source": [
    "# collecting the data from 3 websites"
   ]
  },
  {
   "cell_type": "code",
   "execution_count": 7,
   "metadata": {},
   "outputs": [],
   "source": [
    "\n",
    "urls=[cnn_url, nbc_url, cnbc_rss_url]\n",
    "formats=['html.parser','html.parser','xml']\n",
    "tags = ['h2','h2','description']\n",
    "website = ['CNN','NBC','CNBC']\n"
   ]
  },
  {
   "cell_type": "code",
   "execution_count": 8,
   "metadata": {
    "scrolled": false
   },
   "outputs": [
    {
     "name": "stdout",
     "output_type": "stream",
     "text": [
      "Crawling web page..........https://edition.cnn.com/world/live-news/coronavirus-outbreak-04-12-20-intl-hnk/index.html\n",
      "Crawling web page..........https://www.nbcnews.com/health/coronavirus\n",
      "Headline : U.S. now leads the world in coronavirus deaths, surpassing Italy\n",
      "Headline : Live Blog / Latest news on the global pandemic\n",
      "Headline : Doctor reunites with wife and new baby after work with coronavirus 'dirty team'\n",
      "Headline : The woman leading COVID-19 vaccine trials is 'not your average pocket-protector scientist'\n",
      "Headline : U.K.'s Boris Johnson leaves hospital after personal COVID-19 battle\n",
      "Headline : One year waiting: Transgender man who wants to enlist cites coronavirus urgency\n",
      "Headline : Coronavirus could 'decimate' Latino wealth, hammered by the Great Recession\n",
      "Headline : Vietnamese-owned nail salons donate thousands of masks, gloves, more to hospitals\n",
      "Headline : 'Saturday Night Live' practices social distancing\n",
      "Headline : 'Cannonball' coast-to-coast drive record set amid virus shutdown\n",
      "Headline : Six people shot at California house party that violated stay-at-home order\n",
      "Headline : U.S. now leads world in deaths, day after Trump announces 'opening our country' task force\n",
      "Headline : Hospital workers on front lines of coronavirus fight find their tires slashed\n",
      "Headline : Man accused of scamming pizza restaurants with fake large orders for police\n",
      "Headline : Michael Avenatti released from New York jail over coronavirus concerns\n",
      "Headline : NYC mayor says schools will stay closed rest of year, Cuomo says not so fast\n",
      "Headline : Cuba, U.S. dispute embargo's role in blocking coronavirus supplies\n",
      "Headline : Chicago mayor defends hairstylist visit amid coronavirus outbreak\n",
      "Headline : No federal relief: Cannabis businesses cry for help as coronavirus batters industry\n",
      "Headline : Everyone's cooking during quarantine. And finally, so am I.\n",
      "Headline : Kentucky gov. announces mandatory quarantine for anyone who attends Easter services\n",
      "Headline : Appeals court lifts part of order blocking Texas abortion ban\n",
      "Headline : Coronavirus live updates: Global death toll passes 100K\n",
      "Headline : Pastor caves after defying coronavirus rules\n",
      "Headline : Race rises to the forefront for activists in the coronavirus pandemic\n",
      "Headline : Groups mobilize to feed health care workers\n",
      "Headline : Companies struggling to retain staff face tough choice: Slash 401(k) plans, cut salaries or furlough workers?\n",
      "Headline : French police turn away private jet passengers escaping U.K. coronavirus lockdown\n",
      "Headline : Apple and Google say they'll work together to trace spread of coronavirus via smartphones\n",
      "Headline : Trump makes bogus claims about mail-in vote fraud. Here are the facts.\n",
      "Headline : Coronavirus has ignited a battle over voting by mail. Here's why it's so controversial.\n",
      "Headline : The Week in Pictures: Death toll mounts amid glimmers of hope\n",
      "Headline : Coronavirus stimulus checks: IRS releases new 'simple tax return' to help Americans get theirs\n",
      "Headline : Smashed windows and racist graffiti: Vandals target Asian Americans\n",
      "Headline : I went from teaching your kids to homeschooling mine. Here are some lessons.\n",
      "Headline : For black men, following CDC advice on masks risks exacerbating racial profiling\n",
      "Headline : Woman dying of coronavirus asked Amazon Alexa for help, sister says\n",
      "Headline : Woman, 27, killed by stray bullet while social distancing in Chicago\n",
      "Headline : Video shows giant trench being dug to bury NYC coronavirus victims\n",
      "Headline : People with diabetes are at higher risk for COVID-19 complications\n",
      "Headline : Hit hardest by coronavirus deaths, NY Latinos mourn loved ones\n",
      "Headline : Senate Democrats call for action on anti-Asian bias\n",
      "Headline : 'Fight of a generation': Coronavirus could trigger violent unrest, Security Council warned\n",
      "Headline : 'We could have a depression': Pelosi warns about coronavirus economic fallout\n",
      "Headline : Coronavirus could burst big-city rent bubble\n",
      "Headline : Crucial deal to cut oil production hangs in the balance as Mexico balks\n",
      "Headline : Coronavirus in the U.S. is a tale of two pandemics. New CDC numbers prove it.\n",
      "Headline : Iconic San Francisco bookstore closed by coronavirus may never reopen\n",
      "Headline : Liberty University pressing charges against journalists\n",
      "Headline : Nevada man charged with stealing surgical masks from VA center\n",
      "Headline : U.S. deaths top 16,000, Boris Johnson out of intensive care\n",
      "Headline : Senate hits impasse over $250 billion in coronavirus small-business funds\n",
      "Headline : Coronavirus pandemic: An NBC News special report \n",
      "Headline : 'I'm the one hoarding toilet paper': 10 anonymous confessions in the time of coronavirus\n",
      "Headline : NBC News special report: 'Coronavirus Pandemic'\n",
      "Headline : 'Into The Red Zone': An NBC News NOW documentary \n",
      "Headline : Coronavirus: What you need to know\n",
      "Headline : Photos capture empty cities across the globe\n",
      "Headline : New Yorkers are giving nightly ovations to health workers. These are their portraits\n",
      "Headline : Portrait of a neighborhood under lockdown\n",
      "Headline : U.S. spy agencies collected raw intel hinting at public health crisis in Wuhan, China, in November\n",
      "Headline : What the Black Plague can teach us about how society shifts in a pandemic\n",
      "Headline : Sanders to keep staffers on health care plan through November\n",
      "Headline : FBI warns of 'money mule' schemes exploiting coronavirus\n",
      "Headline : Amid coronavirus quarantines, a Latino police officer organizes festive birthday drive-bys\n",
      "Headline : Pennsylvania nursing home was flagged for dangerous conditions before coronavirus outbreak\n",
      "Headline : MTA workers say the agency hasn't done enough to protect them from coronavirus\n",
      "Headline : National Guard deployed to New Jersey veterans home with at least 10 coronavirus deaths\n",
      "Headline : Faced with flour and yeast shortages, bakers get creative\n",
      "Headline : Arizona fears bed shortage with elderly, Native American populations at risk\n",
      "Headline : U.K. Prime Minister Boris Johnson out of intensive care\n",
      "Crawling web page..........https://www.cnbc.com/id/10000108/device/rss/rss.html\n",
      "Headline : Latest news for health care. \n",
      "Headline : Fauci's hopeful remarks came less than a day after the U.S. counted more than 20,000 deaths from the disease, surpassing Italy as the nation with the highest number of recorded deaths in the world.\n",
      "Headline : The prime minister spent a week in London's St. Thomas' hospital with Covid-19, three days of which were in intensive care.\n",
      "Headline : Russia reported its biggest daily jump in new coronaviruses cases so far on Sunday at 2,186, bringing the country's total confirmed cases to 15,770.\n",
      "Headline : President Donald Trump approved a disaster declaration for Wyoming on Saturday, which comes 22 days after the first disaster declaration in New York, the epicenter of the coronavirus.\n",
      "Headline : New Jersey Gov. Phil Murphy on Saturday announced an executive order to cut capacity on all transit systems by half, and asked all passengers to wear face coverings.\n",
      "Headline : The United States surpassed Italy on Saturday as the country with the most coronavirus deaths in the world, according to data from Johns Hopkins University.\n",
      "Headline : \"Despair is very seductive,\" Senior Rabbi Serge Lippe said. \"I think we in the religious leadership community are most afraid of people giving in to despair — and we're trying to raise people's spirits and remind them hope is worth holding onto.\"\n",
      "Headline : Low supplies and the existence of multiple bidders has made it difficult for states to get enough protective equipment for medical staff.\n",
      "Headline : Covid-19 has infected more than 1,760,000 people around the world as of Saturday, killing at least 107,000 people.\n",
      "Headline : New York state is the epicenter of the outbreak in the country and has reported more cases than Italy, Spain, France and Germany.\n",
      "Headline : Fintech companies have been pushing to be included in the Paycheck Protection Program, saying their tech-focused approach allows them to distribute emergency funds faster than banks.\n",
      "Headline : Talks for the aid have blown past a Monday deadline to disburse up to $32 billion in grants to airlines and contractors to weather coronavirus.\n",
      "Headline : Total confirmed coronavirus cases in the U.S. has reached 501,615, according to data from Johns Hopkins University.\n",
      "Headline : Amid the financial fallour from the coronavirus pandemic, New York City Mayor Bill de Blasio said he is working to institute a rent freeze for over 2 million New Yorkers.\n",
      "Headline : Vice President Mike Pence said on Friday that the United States is expected to have an antibody test \"very soon\" that will determine whether somebody has been exposed to the coronavirus.\n",
      "Headline : On April 9th, cities across the United States illuminated their cities' stadiums and landmarks in blue in support of the health-care workers and first responders as they continue to combat the coronavirus.\n",
      "Headline : Trump said early estimates indicated the U.S. would see 100,000 to 200,000 deaths from the coronavirus and up to 2.2 million if the U.S. didn't take any action.\n",
      "Headline : Fatalities worldwide crossed 100,000 on Friday, the latest data from Johns Hopkins University showed.\n"
     ]
    },
    {
     "name": "stdout",
     "output_type": "stream",
     "text": [
      "Headline : A New Jersey company allegedly tried to sell $45 million of respirator masks at inflated prices.\n",
      "Headline : The U.K. government has urged everyone to stay at home over the Easter weekend.\n",
      "Headline : UnitedHealth Group was hired to help process and expedite the initial $30 billion tranche of payments.\n",
      "Headline : New York saw more than 700 deaths from Covid-19 on Thursday, Gov. Andrew Cuomo said.\n",
      "Headline : Lifting stay-at-home orders too soon could lead to a \"deadly resurgence\" and there's been an \"alarming acceleration\" of cases in other countries, WHO officials said.\n",
      "Headline : Google says it has seen a dramatic rise in telemedicine in the midst of the COVID-19 pandemic, because people would prefer to see a doctor at home.\n",
      "Headline : With strict stay-at-home orders, social distancing measures and countrywide lockdowns, the faithful and religious leaders have had to find creative ways to bring their services and communities together in these trying times.\n",
      "Headline : Black people make up about 14% of Michigan's population, but 40% of all COVID-19 deaths — most of which are in the Detroit metro area.\n",
      "Headline : COVID-19 has infected more than 1,650,200 people around the world as of Friday, killing at least 100,376 people.\n",
      "Headline : U.K. officials are considering an exit strategy from the coronavirus lockdown that would allow young people to be the first to resume their ordinary lives.\n",
      "Headline : Huawei, caught in the crossfire of a larger U.S.-China trade and technology battle, has given masks to a number of countries around the world.\n"
     ]
    }
   ],
   "source": [
    "#crawling all the pages\n",
    "crawl_len =0\n",
    "news_dict=[]\n",
    "for url in urls:\n",
    "    print(\"Crawling web page..........{}\".format(url))\n",
    "    response =requests.get(url)\n",
    "    soup = BeautifulSoup(response.content, formats[crawl_len])\n",
    "    for link in soup.find_all(tags[crawl_len]):\n",
    "        if len(link.text.split(\" \"))>4:\n",
    "            print(\"Headline : {}\".format(link.text))\n",
    "            #entities=[]\n",
    "            entities=[(ent.text,ent.label_) for ent in nlp(link.text).ents]\n",
    "                #print(\"\\tText: {},Entity : {}\".format(ent.text,ent.label_))\n",
    "            news_dict.append({\"Website\":website[crawl_len],'URL':url,'Headline':link.text,'entities':entities})\n",
    "    crawl_len+=1\n",
    "        \n",
    "        "
   ]
  },
  {
   "cell_type": "code",
   "execution_count": 55,
   "metadata": {
    "scrolled": false
   },
   "outputs": [
    {
     "ename": "SyntaxError",
     "evalue": "invalid syntax (<ipython-input-55-ec70a0a9b22f>, line 1)",
     "output_type": "error",
     "traceback": [
      "\u001b[1;36m  File \u001b[1;32m\"<ipython-input-55-ec70a0a9b22f>\"\u001b[1;36m, line \u001b[1;32m1\u001b[0m\n\u001b[1;33m    news_dict!\u001b[0m\n\u001b[1;37m             ^\u001b[0m\n\u001b[1;31mSyntaxError\u001b[0m\u001b[1;31m:\u001b[0m invalid syntax\n"
     ]
    }
   ],
   "source": [
    "news_dict"
   ]
  },
  {
   "cell_type": "markdown",
   "metadata": {},
   "source": [
    "# Converting to dataframe"
   ]
  },
  {
   "cell_type": "code",
   "execution_count": 56,
   "metadata": {
    "scrolled": true
   },
   "outputs": [],
   "source": [
    "import pandas as pd\n",
    "df=pd.DataFrame(news_dict)\n"
   ]
  },
  {
   "cell_type": "markdown",
   "metadata": {},
   "source": [
    "#In the last column(feautre) we got a list, splitting this list and concating with dataframe"
   ]
  },
  {
   "cell_type": "code",
   "execution_count": 57,
   "metadata": {},
   "outputs": [],
   "source": [
    "\n",
    "df=pd.concat([df[['Website','URL','Headline']],df['entities'].apply(pd.Series)],axis=1)"
   ]
  },
  {
   "cell_type": "code",
   "execution_count": 58,
   "metadata": {},
   "outputs": [
    {
     "name": "stderr",
     "output_type": "stream",
     "text": [
      "[nltk_data] Downloading package vader_lexicon to\n",
      "[nltk_data]     C:\\Users\\New\\AppData\\Roaming\\nltk_data...\n",
      "[nltk_data]   Package vader_lexicon is already up-to-date!\n"
     ]
    },
    {
     "data": {
      "text/plain": [
       "True"
      ]
     },
     "execution_count": 58,
     "metadata": {},
     "output_type": "execute_result"
    }
   ],
   "source": [
    "import nltk\n",
    "from nltk.sentiment.vader import SentimentIntensityAnalyzer\n",
    "#importing the vader sentiment analyzer\n",
    "nltk.download('vader_lexicon')"
   ]
  },
  {
   "cell_type": "code",
   "execution_count": 59,
   "metadata": {},
   "outputs": [],
   "source": [
    "sid = SentimentIntensityAnalyzer()"
   ]
  },
  {
   "cell_type": "code",
   "execution_count": 69,
   "metadata": {},
   "outputs": [
    {
     "data": {
      "text/html": [
       "<div>\n",
       "<style scoped>\n",
       "    .dataframe tbody tr th:only-of-type {\n",
       "        vertical-align: middle;\n",
       "    }\n",
       "\n",
       "    .dataframe tbody tr th {\n",
       "        vertical-align: top;\n",
       "    }\n",
       "\n",
       "    .dataframe thead th {\n",
       "        text-align: right;\n",
       "    }\n",
       "</style>\n",
       "<table border=\"1\" class=\"dataframe\">\n",
       "  <thead>\n",
       "    <tr style=\"text-align: right;\">\n",
       "      <th></th>\n",
       "      <th>Website</th>\n",
       "      <th>URL</th>\n",
       "      <th>Headline</th>\n",
       "      <th>neg</th>\n",
       "      <th>neu</th>\n",
       "      <th>pos</th>\n",
       "      <th>compound</th>\n",
       "    </tr>\n",
       "  </thead>\n",
       "  <tbody>\n",
       "    <tr>\n",
       "      <th>0</th>\n",
       "      <td>NBC</td>\n",
       "      <td>https://www.nbcnews.com/health/coronavirus</td>\n",
       "      <td>U.S. now leads the world in coronavirus deaths...</td>\n",
       "      <td>0.000</td>\n",
       "      <td>1.000</td>\n",
       "      <td>0.000</td>\n",
       "      <td>0.0000</td>\n",
       "    </tr>\n",
       "    <tr>\n",
       "      <th>1</th>\n",
       "      <td>NBC</td>\n",
       "      <td>https://www.nbcnews.com/health/coronavirus</td>\n",
       "      <td>Live Blog / Latest news on the global pandemic</td>\n",
       "      <td>0.000</td>\n",
       "      <td>1.000</td>\n",
       "      <td>0.000</td>\n",
       "      <td>0.0000</td>\n",
       "    </tr>\n",
       "    <tr>\n",
       "      <th>2</th>\n",
       "      <td>NBC</td>\n",
       "      <td>https://www.nbcnews.com/health/coronavirus</td>\n",
       "      <td>Doctor reunites with wife and new baby after w...</td>\n",
       "      <td>0.195</td>\n",
       "      <td>0.805</td>\n",
       "      <td>0.000</td>\n",
       "      <td>-0.4404</td>\n",
       "    </tr>\n",
       "    <tr>\n",
       "      <th>3</th>\n",
       "      <td>NBC</td>\n",
       "      <td>https://www.nbcnews.com/health/coronavirus</td>\n",
       "      <td>The woman leading COVID-19 vaccine trials is '...</td>\n",
       "      <td>0.000</td>\n",
       "      <td>1.000</td>\n",
       "      <td>0.000</td>\n",
       "      <td>0.0000</td>\n",
       "    </tr>\n",
       "    <tr>\n",
       "      <th>4</th>\n",
       "      <td>NBC</td>\n",
       "      <td>https://www.nbcnews.com/health/coronavirus</td>\n",
       "      <td>U.K.'s Boris Johnson leaves hospital after per...</td>\n",
       "      <td>0.245</td>\n",
       "      <td>0.755</td>\n",
       "      <td>0.000</td>\n",
       "      <td>-0.3818</td>\n",
       "    </tr>\n",
       "    <tr>\n",
       "      <th>...</th>\n",
       "      <td>...</td>\n",
       "      <td>...</td>\n",
       "      <td>...</td>\n",
       "      <td>...</td>\n",
       "      <td>...</td>\n",
       "      <td>...</td>\n",
       "      <td>...</td>\n",
       "    </tr>\n",
       "    <tr>\n",
       "      <th>96</th>\n",
       "      <td>CNBC</td>\n",
       "      <td>https://www.cnbc.com/id/10000108/device/rss/rs...</td>\n",
       "      <td>With strict stay-at-home orders, social distan...</td>\n",
       "      <td>0.000</td>\n",
       "      <td>0.838</td>\n",
       "      <td>0.162</td>\n",
       "      <td>0.7003</td>\n",
       "    </tr>\n",
       "    <tr>\n",
       "      <th>97</th>\n",
       "      <td>CNBC</td>\n",
       "      <td>https://www.cnbc.com/id/10000108/device/rss/rs...</td>\n",
       "      <td>Black people make up about 14% of Michigan's p...</td>\n",
       "      <td>0.000</td>\n",
       "      <td>1.000</td>\n",
       "      <td>0.000</td>\n",
       "      <td>0.0000</td>\n",
       "    </tr>\n",
       "    <tr>\n",
       "      <th>98</th>\n",
       "      <td>CNBC</td>\n",
       "      <td>https://www.cnbc.com/id/10000108/device/rss/rs...</td>\n",
       "      <td>COVID-19 has infected more than 1,650,200 peop...</td>\n",
       "      <td>0.322</td>\n",
       "      <td>0.678</td>\n",
       "      <td>0.000</td>\n",
       "      <td>-0.8225</td>\n",
       "    </tr>\n",
       "    <tr>\n",
       "      <th>99</th>\n",
       "      <td>CNBC</td>\n",
       "      <td>https://www.cnbc.com/id/10000108/device/rss/rs...</td>\n",
       "      <td>U.K. officials are considering an exit strateg...</td>\n",
       "      <td>0.000</td>\n",
       "      <td>0.927</td>\n",
       "      <td>0.073</td>\n",
       "      <td>0.2263</td>\n",
       "    </tr>\n",
       "    <tr>\n",
       "      <th>100</th>\n",
       "      <td>CNBC</td>\n",
       "      <td>https://www.cnbc.com/id/10000108/device/rss/rs...</td>\n",
       "      <td>Huawei, caught in the crossfire of a larger U....</td>\n",
       "      <td>0.109</td>\n",
       "      <td>0.837</td>\n",
       "      <td>0.054</td>\n",
       "      <td>-0.3182</td>\n",
       "    </tr>\n",
       "  </tbody>\n",
       "</table>\n",
       "<p>101 rows × 7 columns</p>\n",
       "</div>"
      ],
      "text/plain": [
       "    Website                                                URL  \\\n",
       "0       NBC         https://www.nbcnews.com/health/coronavirus   \n",
       "1       NBC         https://www.nbcnews.com/health/coronavirus   \n",
       "2       NBC         https://www.nbcnews.com/health/coronavirus   \n",
       "3       NBC         https://www.nbcnews.com/health/coronavirus   \n",
       "4       NBC         https://www.nbcnews.com/health/coronavirus   \n",
       "..      ...                                                ...   \n",
       "96     CNBC  https://www.cnbc.com/id/10000108/device/rss/rs...   \n",
       "97     CNBC  https://www.cnbc.com/id/10000108/device/rss/rs...   \n",
       "98     CNBC  https://www.cnbc.com/id/10000108/device/rss/rs...   \n",
       "99     CNBC  https://www.cnbc.com/id/10000108/device/rss/rs...   \n",
       "100    CNBC  https://www.cnbc.com/id/10000108/device/rss/rs...   \n",
       "\n",
       "                                              Headline    neg    neu    pos  \\\n",
       "0    U.S. now leads the world in coronavirus deaths...  0.000  1.000  0.000   \n",
       "1       Live Blog / Latest news on the global pandemic  0.000  1.000  0.000   \n",
       "2    Doctor reunites with wife and new baby after w...  0.195  0.805  0.000   \n",
       "3    The woman leading COVID-19 vaccine trials is '...  0.000  1.000  0.000   \n",
       "4    U.K.'s Boris Johnson leaves hospital after per...  0.245  0.755  0.000   \n",
       "..                                                 ...    ...    ...    ...   \n",
       "96   With strict stay-at-home orders, social distan...  0.000  0.838  0.162   \n",
       "97   Black people make up about 14% of Michigan's p...  0.000  1.000  0.000   \n",
       "98   COVID-19 has infected more than 1,650,200 peop...  0.322  0.678  0.000   \n",
       "99   U.K. officials are considering an exit strateg...  0.000  0.927  0.073   \n",
       "100  Huawei, caught in the crossfire of a larger U....  0.109  0.837  0.054   \n",
       "\n",
       "     compound  \n",
       "0      0.0000  \n",
       "1      0.0000  \n",
       "2     -0.4404  \n",
       "3      0.0000  \n",
       "4     -0.3818  \n",
       "..        ...  \n",
       "96     0.7003  \n",
       "97     0.0000  \n",
       "98    -0.8225  \n",
       "99     0.2263  \n",
       "100   -0.3182  \n",
       "\n",
       "[101 rows x 7 columns]"
      ]
     },
     "execution_count": 69,
     "metadata": {},
     "output_type": "execute_result"
    }
   ],
   "source": [
    "df['sentiment'] =df['Headline'].apply(lambda x:sid.polarity_scores(x))\n",
    "df.to_csv('sentiment_analysis.csv')\n",
    "df=pd.concat([df[['Website','URL','Headline']],df['sentiment'].apply(pd.Series)],axis=1)\n",
    "df"
   ]
  },
  {
   "cell_type": "code",
   "execution_count": 63,
   "metadata": {},
   "outputs": [],
   "source": [
    "df.to_csv('final_data.csv')"
   ]
  },
  {
   "cell_type": "code",
   "execution_count": 24,
   "metadata": {},
   "outputs": [],
   "source": [
    "import googlemaps\n"
   ]
  }
 ],
 "metadata": {
  "kernelspec": {
   "display_name": "Python 3",
   "language": "python",
   "name": "python3"
  },
  "language_info": {
   "codemirror_mode": {
    "name": "ipython",
    "version": 3
   },
   "file_extension": ".py",
   "mimetype": "text/x-python",
   "name": "python",
   "nbconvert_exporter": "python",
   "pygments_lexer": "ipython3",
   "version": "3.7.6"
  }
 },
 "nbformat": 4,
 "nbformat_minor": 4
}
